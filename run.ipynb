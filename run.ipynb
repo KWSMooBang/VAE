{
 "cells": [
  {
   "cell_type": "code",
   "execution_count": 7,
   "metadata": {},
   "outputs": [],
   "source": [
    "import os \n",
    "import yaml\n",
    "import argparse\n",
    "import numpy as np\n",
    "import torch.backends.cudnn as cudnn\n",
    "\n",
    "from pathlib import Path\n",
    "from pytorch_lightning import Trainer\n",
    "from pytorch_lightning.loggers import TensorBoardLogger\n",
    "from pytorch_lightning.callbacks import LearningRateMonitor, ModelCheckpoint\n",
    "from models import *\n",
    "from experimenter import VAE_experimenter\n",
    "from datasets.dataset import VAEDataset\n"
   ]
  },
  {
   "cell_type": "code",
   "execution_count": 8,
   "metadata": {},
   "outputs": [],
   "source": [
    "parser = argparse.ArgumentParser(description='Generic runner for VAE models')\n",
    "parser.add_argument('--config', '-c',\n",
    "                    dest='filename',\n",
    "                    metavar='FILE',\n",
    "                    help='path to the config file',\n",
    "                    default='configs/vae.yaml')\n",
    "\n",
    "args = parser.parse_args(args=[])\n",
    "with open(args.filename, 'r') as file:\n",
    "    try:\n",
    "        config = yaml.safe_load(file)\n",
    "    except yaml.YAMLError as error:\n",
    "        print(error)"
   ]
  },
  {
   "cell_type": "code",
   "execution_count": 9,
   "metadata": {},
   "outputs": [
    {
     "data": {
      "text/plain": [
       "{'model_params': {'name': 'VanillaVAE', 'in_channels': 3, 'latent_dim': 128},\n",
       " 'data_params': {'data_path': 'datasets/',\n",
       "  'train_batch_size': 64,\n",
       "  'val_batch_size': 64,\n",
       "  'patch_size': 64,\n",
       "  'num_workers': 4},\n",
       " 'exp_params': {'LR': 0.005,\n",
       "  'weight_decay': 0.0,\n",
       "  'scheduler_gamma': 0.95,\n",
       "  'kld_weight': 0.00025,\n",
       "  'manual_seed': 1265},\n",
       " 'trainer_params': {'gpus': [1], 'max_epochs': 100},\n",
       " 'logging_params': {'save_dir': 'logs/', 'name': 'VanillaVAE'}}"
      ]
     },
     "execution_count": 9,
     "metadata": {},
     "output_type": "execute_result"
    }
   ],
   "source": [
    "config"
   ]
  },
  {
   "cell_type": "code",
   "execution_count": 10,
   "metadata": {},
   "outputs": [],
   "source": [
    "tb_logger = TensorBoardLogger(save_dir=config['logging_params']['save_dir'],\n",
    "                              name=config['model_params']['name'],)\n",
    "\n",
    "model = vae_models[config['model_params']['name']](**config['model_params'])\n",
    "experimenter = VAE_experimenter(model, config['exp_params'])\n",
    "data = VAEDataset(**config['data_params'], pin_memory=len(config['trainer_params']['gpus']) != 0)"
   ]
  },
  {
   "cell_type": "code",
   "execution_count": 5,
   "metadata": {},
   "outputs": [],
   "source": [
    "data.setup()\n",
    "\n",
    "trainer = Trainer(logger=tb_logger,\n",
    "                  callbacks=[\n",
    "                      LearningRateMonitor(),\n",
    "                      ModelCheckpoint(save_top_k=2,\n",
    "                                      dirpath=os.path.join(tb_logger.log_dir, 'checkpoints'),\n",
    "                                      moniter='val_loss',\n",
    "                                      save_last=True),\n",
    "                  ],\n",
    "                  **config['trainer_params'])\n",
    "\n",
    "Path(f'{tb_logger.log_dir}/samples').mkdir(exist_ok=True, parents=True)\n",
    "Path(f'{tb_logger.log_dir}/reconstructions').mkdir(exist_ok=True, parents=True)\n",
    "\n",
    "print(f'===== Training {config['model_params']['name']} =====')\n",
    "trainer.fit(experimenter, datamodule=data)"
   ]
  },
  {
   "cell_type": "code",
   "execution_count": null,
   "metadata": {},
   "outputs": [],
   "source": []
  }
 ],
 "metadata": {
  "kernelspec": {
   "display_name": "Python 3",
   "language": "python",
   "name": "python3"
  },
  "language_info": {
   "codemirror_mode": {
    "name": "ipython",
    "version": 3
   },
   "file_extension": ".py",
   "mimetype": "text/x-python",
   "name": "python",
   "nbconvert_exporter": "python",
   "pygments_lexer": "ipython3",
   "version": "3.12.4"
  }
 },
 "nbformat": 4,
 "nbformat_minor": 2
}
